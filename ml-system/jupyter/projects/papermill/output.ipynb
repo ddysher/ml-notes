{
 "cells": [
  {
   "cell_type": "code",
   "execution_count": 1,
   "metadata": {
    "papermill": {
     "duration": 0.01588,
     "end_time": "2019-05-01T11:18:51.561307",
     "exception": false,
     "start_time": "2019-05-01T11:18:51.545427",
     "status": "completed"
    },
    "tags": [
     "parameters"
    ]
   },
   "outputs": [],
   "source": [
    "tick = 10"
   ]
  },
  {
   "cell_type": "code",
   "execution_count": 2,
   "metadata": {
    "papermill": {
     "duration": 0.009878,
     "end_time": "2019-05-01T11:18:51.575800",
     "exception": false,
     "start_time": "2019-05-01T11:18:51.565922",
     "status": "completed"
    },
    "tags": [
     "injected-parameters"
    ]
   },
   "outputs": [],
   "source": [
    "# Parameters\n",
    "tick = 2\n"
   ]
  },
  {
   "cell_type": "code",
   "execution_count": 3,
   "metadata": {
    "papermill": {
     "duration": 0.009961,
     "end_time": "2019-05-01T11:18:51.588922",
     "exception": false,
     "start_time": "2019-05-01T11:18:51.578961",
     "status": "completed"
    },
    "tags": []
   },
   "outputs": [
    {
     "name": "stdout",
     "output_type": "stream",
     "text": [
      "start\n"
     ]
    }
   ],
   "source": [
    "print('start')"
   ]
  },
  {
   "cell_type": "code",
   "execution_count": 4,
   "metadata": {
    "papermill": {
     "duration": 2.010622,
     "end_time": "2019-05-01T11:18:53.603055",
     "exception": false,
     "start_time": "2019-05-01T11:18:51.592433",
     "status": "completed"
    },
    "slideshow": {
     "slide_type": "-"
    },
    "tags": []
   },
   "outputs": [],
   "source": [
    "import time\n",
    "\n",
    "time.sleep(tick)"
   ]
  },
  {
   "cell_type": "code",
   "execution_count": 5,
   "metadata": {
    "papermill": {
     "duration": 0.012896,
     "end_time": "2019-05-01T11:18:53.619489",
     "exception": false,
     "start_time": "2019-05-01T11:18:53.606593",
     "status": "completed"
    },
    "tags": []
   },
   "outputs": [
    {
     "name": "stdout",
     "output_type": "stream",
     "text": [
      "Done\n"
     ]
    }
   ],
   "source": [
    "print(\"Done\")"
   ]
  }
 ],
 "metadata": {
  "celltoolbar": "Tags",
  "kernelspec": {
   "display_name": "Python 3",
   "language": "python",
   "name": "python3"
  },
  "language_info": {
   "codemirror_mode": {
    "name": "ipython",
    "version": 3
   },
   "file_extension": ".py",
   "mimetype": "text/x-python",
   "name": "python",
   "nbconvert_exporter": "python",
   "pygments_lexer": "ipython3",
   "version": "3.6.7"
  },
  "papermill": {
   "duration": 3.315263,
   "end_time": "2019-05-01T11:18:54.026591",
   "environment_variables": {},
   "exception": null,
   "input_path": "sleep.ipynb",
   "output_path": "output.ipynb",
   "parameters": {
    "tick": 2
   },
   "start_time": "2019-05-01T11:18:50.711328",
   "version": "1.0.0"
  }
 },
 "nbformat": 4,
 "nbformat_minor": 2
}