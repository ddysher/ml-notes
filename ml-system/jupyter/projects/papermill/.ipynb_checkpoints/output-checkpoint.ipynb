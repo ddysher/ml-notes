{
 "cells": [
  {
   "cell_type": "code",
   "execution_count": 1,
   "metadata": {
    "papermill": {
     "duration": 0.016619,
     "end_time": "2019-05-01T09:21:56.367171",
     "exception": false,
     "start_time": "2019-05-01T09:21:56.350552",
     "status": "completed"
    },
    "tags": []
   },
   "outputs": [
    {
     "name": "stdout",
     "output_type": "stream",
     "text": [
      "start\n"
     ]
    }
   ],
   "source": [
    "print('start')"
   ]
  },
  {
   "cell_type": "code",
   "execution_count": 2,
   "metadata": {
    "papermill": {
     "duration": 10.017461,
     "end_time": "2019-05-01T09:22:06.388773",
     "exception": false,
     "start_time": "2019-05-01T09:21:56.371312",
     "status": "completed"
    },
    "slideshow": {
     "slide_type": "-"
    },
    "tags": []
   },
   "outputs": [],
   "source": [
    "import time\n",
    "\n",
    "time.sleep(60)"
   ]
  },
  {
   "cell_type": "code",
   "execution_count": 3,
   "metadata": {
    "papermill": {
     "duration": 0.01238,
     "end_time": "2019-05-01T09:22:06.404801",
     "exception": false,
     "start_time": "2019-05-01T09:22:06.392421",
     "status": "completed"
    },
    "tags": []
   },
   "outputs": [
    {
     "name": "stdout",
     "output_type": "stream",
     "text": [
      "Done\n"
     ]
    }
   ],
   "source": [
    "print(\"Done\")"
   ]
  }
 ],
 "metadata": {
  "kernelspec": {
   "display_name": "Python 3",
   "language": "python",
   "name": "python3"
  },
  "language_info": {
   "codemirror_mode": {
    "name": "ipython",
    "version": 3
   },
   "file_extension": ".py",
   "mimetype": "text/x-python",
   "name": "python",
   "nbconvert_exporter": "python",
   "pygments_lexer": "ipython3",
   "version": "3.6.7"
  },
  "papermill": {
   "duration": 11.34763,
   "end_time": "2019-05-01T09:22:06.891085",
   "environment_variables": {},
   "exception": null,
   "input_path": "sleep.ipynb",
   "output_path": "output.ipynb",
   "parameters": {},
   "start_time": "2019-05-01T09:21:55.543455",
   "version": "1.0.0"
  }
 },
 "nbformat": 4,
 "nbformat_minor": 2
}
